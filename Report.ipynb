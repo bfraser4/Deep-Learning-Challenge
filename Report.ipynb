{
 "cells": [
  {
   "cell_type": "markdown",
   "metadata": {},
   "source": [
    "# Overview of Analysis"
   ]
  },
  {
   "cell_type": "markdown",
   "metadata": {},
   "source": [
    "## Data Preprocessing\n",
    "- What variables are the targets for your model?\n",
    "    - y, 'IS_SUCCESSFUL'\n",
    "- What variables are the features for your model?\n",
    "    - X, drop 'IS_SUCCESSFUL'\n"
   ]
  },
  {
   "cell_type": "markdown",
   "metadata": {},
   "source": [
    "## Compiling, Training, and Evaluating the Model\n",
    "- How many neurons, layers, and activation functions did you select for your neural network model, and why? \n",
    "    - Eight neurons in the first layer, 3 neurons in the second layer. There are 3 layers total, including the output layer. For this model I utilized two activation functions, 'relu' and 'sigmoid'.\n",
    "\n",
    "- Were you able to achieve the target model performance? \n",
    "    - After training the model and looking at 100 epochs, the highest model performance accuracy maxed out at about 74%."
   ]
  }
 ],
 "metadata": {
  "language_info": {
   "name": "python"
  },
  "orig_nbformat": 4
 },
 "nbformat": 4,
 "nbformat_minor": 2
}
